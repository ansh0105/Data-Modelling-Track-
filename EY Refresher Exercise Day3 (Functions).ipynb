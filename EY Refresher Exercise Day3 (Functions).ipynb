{
 "cells": [
  {
   "cell_type": "code",
   "execution_count": 1,
   "id": "4e6f1950",
   "metadata": {},
   "outputs": [],
   "source": [
    "import pandas as pd\n",
    "import numpy as np\n"
   ]
  },
  {
   "cell_type": "code",
   "execution_count": 2,
   "id": "47ea9353",
   "metadata": {},
   "outputs": [
    {
     "name": "stdout",
     "output_type": "stream",
     "text": [
      "Enter a list of names separated by spaces: Ansh Vaishali Abhi\n",
      "[('ANSH', 4), ('VAISHALI', 8), ('ABHI', 4)]\n"
     ]
    }
   ],
   "source": [
    "def name_info(names):\n",
    "    name_info_list = [(name.upper(), len(name)) for name in names]\n",
    "    return name_info_list\n",
    "\n",
    "user_input = input(\"Enter a list of names separated by spaces: \")\n",
    "input_names = user_input.split()\n",
    "\n",
    "output = name_info(input_names)\n",
    "print(output)"
   ]
  },
  {
   "cell_type": "code",
   "execution_count": 7,
   "id": "b8d23862",
   "metadata": {},
   "outputs": [
    {
     "name": "stdout",
     "output_type": "stream",
     "text": [
      "Enter a sentence containing numbers: In 1984 there were 13 instances of a protest with over 1000 people attending\n",
      "Numbers in the sentence: [1984, 13, 1000]\n"
     ]
    }
   ],
   "source": [
    "import re\n",
    "\n",
    "def extract_numbers_from_sentence(sentence):\n",
    "    # Use regular expression to find all numbers in the sentence\n",
    "    numbers = re.findall(r'\\d+', sentence)\n",
    "    return [int(number) for number in numbers]\n",
    "\n",
    "user_input = input(\"Enter a sentence containing numbers: \")\n",
    "numbers = extract_numbers_from_sentence(user_input)\n",
    "print(\"Numbers in the sentence:\", numbers)\n"
   ]
  },
  {
   "cell_type": "markdown",
   "id": "dd1f41a6",
   "metadata": {},
   "source": [
    "# Final Task Application"
   ]
  },
  {
   "cell_type": "code",
   "execution_count": 11,
   "id": "636d1c96",
   "metadata": {},
   "outputs": [
    {
     "name": "stdout",
     "output_type": "stream",
     "text": [
      "\n",
      "Grocery Store Inventory System\n",
      "1. Display Available Items\n",
      "2. Place an Order\n",
      "3. Exit\n",
      "Enter your choice (1/2/3): 2\n",
      "Enter the Item ID to purchase (or 'done' to finish): done\n",
      "Order placed successfully! Your Order ID is: ORD-6545\n",
      "Thank you for shopping with us!\n",
      "\n",
      "Grocery Store Inventory System\n",
      "1. Display Available Items\n",
      "2. Place an Order\n",
      "3. Exit\n",
      "Enter your choice (1/2/3): 1\n",
      "Available Items:\n",
      "Item ID  |  Name  |  MRP  |  Quantity  |  Size\n",
      "1001  |  Apple  |  2.5  |  50  |  Small\n",
      "1002  |  Banana  |  1.0  |  30  |  Medium\n",
      "1003  |  Orange  |  3.0  |  40  |  Large\n",
      "\n",
      "Grocery Store Inventory System\n",
      "1. Display Available Items\n",
      "2. Place an Order\n",
      "3. Exit\n",
      "Enter your choice (1/2/3): 2\n",
      "Enter the Item ID to purchase (or 'done' to finish): 1001\n",
      "Enter the quantity of Apple to purchase: 2\n",
      "Enter the Item ID to purchase (or 'done' to finish): done\n",
      "Order placed successfully! Your Order ID is: ORD-7210\n",
      "Thank you for shopping with us!\n",
      "\n",
      "Grocery Store Inventory System\n",
      "1. Display Available Items\n",
      "2. Place an Order\n",
      "3. Exit\n",
      "Enter your choice (1/2/3): 3\n"
     ]
    }
   ],
   "source": [
    "import random\n",
    "\n",
    "# Define the initial inventory\n",
    "inventory = {\n",
    "    '1001': {'name': 'Apple', 'MRP': 2.5, 'quantity': 50, 'size': 'Small'},\n",
    "    '1002': {'name': 'Banana', 'MRP': 1.0, 'quantity': 30, 'size': 'Medium'},\n",
    "    '1003': {'name': 'Orange', 'MRP': 3.0, 'quantity': 40, 'size': 'Large'},\n",
    "    # Add more items as needed\n",
    "}\n",
    "\n",
    "# Function to display the available items\n",
    "def display_items():\n",
    "    print(\"Available Items:\")\n",
    "    print(\"Item ID  |  Name  |  MRP  |  Quantity  |  Size\")\n",
    "    for item_id, details in inventory.items():\n",
    "        print(f\"{item_id}  |  {details['name']}  |  {details['MRP']}  |  {details['quantity']}  |  {details['size']}\")\n",
    "\n",
    "# Function to place an order\n",
    "def place_order():\n",
    "    order_details = []\n",
    "    total_amount = 0\n",
    "    while True:\n",
    "        item_id = input(\"Enter the Item ID to purchase (or 'done' to finish): \")\n",
    "        if item_id == 'done':\n",
    "            break\n",
    "        if item_id in inventory:\n",
    "            quantity = int(input(f\"Enter the quantity of {inventory[item_id]['name']} to purchase: \"))\n",
    "            if quantity <= inventory[item_id]['quantity']:\n",
    "                item_total = quantity * inventory[item_id]['MRP']\n",
    "                total_amount += item_total\n",
    "                order_details.append(f\"{inventory[item_id]['name']} ({inventory[item_id]['size']}): {quantity} x {inventory[item_id]['MRP']} = {item_total}\")\n",
    "                inventory[item_id]['quantity'] -= quantity\n",
    "            else:\n",
    "                print(\"Insufficient quantity in stock.\")\n",
    "        else:\n",
    "            print(\"Invalid Item ID. Please enter a valid Item ID.\")\n",
    "    \n",
    "    # Generate an order ID\n",
    "    order_id = f\"ORD-{random.randint(1000, 9999)}\"\n",
    "    \n",
    "    # Write the order details to a file\n",
    "    with open(f\"{order_id}.txt\", 'w') as order_file:\n",
    "        order_file.write(\"Order Details:\\n\")\n",
    "        for item in order_details:\n",
    "            order_file.write(f\"{item}\\n\")\n",
    "        order_file.write(f\"Total Amount: {total_amount}\\n\")\n",
    "\n",
    "    print(f\"Order placed successfully! Your Order ID is: {order_id}\")\n",
    "    print(\"Thank you for shopping with us!\")\n",
    "\n",
    "# Main menu\n",
    "while True:\n",
    "    print(\"\\nGrocery Store Inventory System\")\n",
    "    print(\"1. Display Available Items\")\n",
    "    print(\"2. Place an Order\")\n",
    "    print(\"3. Exit\")\n",
    "    choice = input(\"Enter your choice (1/2/3): \")\n",
    "    \n",
    "    if choice == '1':\n",
    "        display_items()\n",
    "    elif choice == '2':\n",
    "        place_order()\n",
    "    elif choice == '3':\n",
    "        break\n",
    "    else:\n",
    "        print(\"Invalid choice. Please select a valid option.\")\n",
    "\n"
   ]
  },
  {
   "cell_type": "code",
   "execution_count": null,
   "id": "acd968bb",
   "metadata": {},
   "outputs": [],
   "source": []
  }
 ],
 "metadata": {
  "kernelspec": {
   "display_name": "Python 3 (ipykernel)",
   "language": "python",
   "name": "python3"
  },
  "language_info": {
   "codemirror_mode": {
    "name": "ipython",
    "version": 3
   },
   "file_extension": ".py",
   "mimetype": "text/x-python",
   "name": "python",
   "nbconvert_exporter": "python",
   "pygments_lexer": "ipython3",
   "version": "3.11.4"
  }
 },
 "nbformat": 4,
 "nbformat_minor": 5
}
